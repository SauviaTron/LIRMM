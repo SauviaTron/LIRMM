{
 "cells": [
  {
   "attachments": {},
   "cell_type": "markdown",
   "metadata": {},
   "source": [
    "# Introduction to the JupyterLab and Jupyter Notebooks\n",
    "\n",
    "This is a short introduction to two of the flagship tools created by [the Jupyter Community](https://jupyter.org).\n",
    "\n",
    "> **⚠️Experimental!⚠️**: This is an experimental interface provided by the [JupyterLite project](https://jupyterlite.readthedocs.io/en/latest/). It embeds an entire JupyterLab interface, with many popular packages for scientific computing, in your browser. There may be minor differences in behavior between JupyterLite and the JupyterLab you install locally. You may also encounter some bugs or unexpected behavior. To report any issues, or to get involved with the JupyterLite project, see [the JupyterLite repository](https://github.com/jupyterlite/jupyterlite/issues?q=is%3Aissue+is%3Aopen+sort%3Aupdated-desc).\n",
    "\n",
    "## JupyterLab 🧪\n",
    "\n",
    "**JupyterLab** is a next-generation web-based user interface for Project Jupyter. It enables you to work with documents and activities such as Jupyter notebooks, text editors, terminals, and custom components in a flexible, integrated, and extensible manner. It is the interface that you're looking at right now.\n",
    "\n",
    "**For an overview of the JupyterLab interface**, see the **JupyterLab Welcome Tour** on this page, by going to `Help -> Welcome Tour` and following the prompts.\n",
    "\n",
    "> **See Also**: For a more in-depth tour of JupyterLab with a full environment that runs in the cloud, see [the JupyterLab introduction on Binder](https://mybinder.org/v2/gh/jupyterlab/jupyterlab-demo/HEAD?urlpath=lab/tree/demo).\n",
    "\n",
    "## Jupyter Notebooks 📓\n",
    "\n",
    "**Jupyter Notebooks** are a community standard for communicating and performing interactive computing. They are a document that blends computations, outputs, explanatory text, mathematics, images, and rich media representations of objects.\n",
    "\n",
    "JupyterLab is one interface used to create and interact with Jupyter Notebooks.\n",
    "\n",
    "**For an overview of Jupyter Notebooks**, see the **JupyterLab Welcome Tour** on this page, by going to `Help -> Notebook Tour` and following the prompts.\n",
    "\n",
    "> **See Also**: For a more in-depth tour of Jupyter Notebooks and the Classic Jupyter Notebook interface, see [the Jupyter Notebook IPython tutorial on Binder](https://mybinder.org/v2/gh/ipython/ipython-in-depth/HEAD?urlpath=tree/binder/Index.ipynb).\n",
    "\n",
    "## An example: visualizing data in the notebook ✨\n",
    "\n",
    "Below is an example of a code cell. We'll visualize some simple data using two popular packages in Python. We'll use [NumPy](https://numpy.org/) to create some random data, and [Matplotlib](https://matplotlib.org) to visualize it.\n",
    "\n",
    "Note how the code and the results of running the code are bundled together."
   ]
  },
  {
   "cell_type": "code",
   "execution_count": 29,
   "metadata": {},
   "outputs": [],
   "source": [
    "import matplotlib.pyplot as plt\n",
    "import numpy as np"
   ]
  },
  {
   "cell_type": "code",
   "execution_count": 59,
   "metadata": {},
   "outputs": [
    {
     "name": "stdout",
     "output_type": "stream",
     "text": [
      "43.103576\n",
      "43.110076\n",
      "43.117876\n",
      "43.125168\n",
      "43.125268\n",
      "43.146508\n",
      "43.1851\n",
      "43.33216\n",
      "43.415984\n",
      "43.45498\n",
      "43.484192\n",
      "43.531052\n",
      "43.551512\n",
      "43.562016\n",
      "GNAT L082CZ - 03\n"
     ]
    }
   ],
   "source": [
    "# Open File\n",
    "with open('Files_txt/Release_01_210423/GNAT_03.txt', 'r') as f:\n",
    "    data = f.readlines()\n",
    "\n",
    "column_names = ['Board_Name', 'Battery_Level', 'Time_User', 'Time_PreviousMsg', 'Time_Elapsed', 'time', 'STM32_Temperature', \n",
    "                'DevEUI', 'Network_Quality', 'RSSI', 'SNR', 'ESP', 'SF', 'Frequency', 'Nb_Gateways', 'fcnt', 'LoRa_Payload', \n",
    "                'GPS_Latitude', 'GPS_Longitude', 'GPS_NbSatellites', 'GPS_EHPE', 'GPS_Distance', 'GPS_Vitesse', 'GPS_Direction', \n",
    "                'Acc_Temp', 'Acc_AxeX', 'Acc_AxeY', 'Acc_AxeZ', 'Acc_Roll', 'Acc_Pitch', 'Acc_Yaw']\n",
    "\n",
    "# Suppression des caractères spéciaux des noms de colonnes\n",
    "column_names = [name.replace('\\n', '').replace(' ', '_').replace('-', '_').replace('.', '_') for name in column_names]\n",
    "\n",
    "# Suppression de la première ligne qui contient les noms de colonnes\n",
    "data = data[1:]\n",
    "\n",
    "# Création d'une liste vide pour stocker les données\n",
    "parsed_data = []\n",
    "\n",
    "# Traitement des données et stockage dans la liste parsed_data\n",
    "for line in data:\n",
    "    row = line.strip().split(';')\n",
    "    parsed_row = {}\n",
    "    for i in range(len(row)):\n",
    "        parsed_row[column_names[i]] = row[i]\n",
    "    parsed_data.append(parsed_row)\n",
    "\n",
    "# Affichage des données\n",
    "for row in parsed_data:\n",
    "    print(row['GPS_Latitude'])\n",
    "    \n",
    "print( parsed_data[9]['Board_Name'])\n"
   ]
  },
  {
   "cell_type": "code",
   "execution_count": 63,
   "metadata": {},
   "outputs": [
    {
     "name": "stdout",
     "output_type": "stream",
     "text": [
      "In 'Files_txt/Release_01_210423/GNAT_03.txt', there is 15 data available.\n",
      "In 'Files_txt/Release_01_210423/GNAT_04.txt', there is 58 data available.\n"
     ]
    }
   ],
   "source": [
    "import fonctions\n",
    "\n",
    "Release_01_210423_GNAT_03 = fonctions.Read_File_txt( 'Files_txt/Release_01_210423/GNAT_03.txt' )\n",
    "print( f\"In 'Files_txt/Release_01_210423/GNAT_03.txt', there is {len(Release_01_210423_GNAT_03)+1} data available.\")\n",
    "Release_01_210423_GNAT_04 = fonctions.Read_File_txt( 'Files_txt/Release_01_210423/GNAT_04.txt' )\n",
    "print( f\"In 'Files_txt/Release_01_210423/GNAT_04.txt', there is {len(Release_01_210423_GNAT_04)+1} data available.\")"
   ]
  },
  {
   "cell_type": "code",
   "execution_count": 70,
   "metadata": {},
   "outputs": [
    {
     "ename": "SyntaxError",
     "evalue": "invalid syntax. Perhaps you forgot a comma? (984103127.py, line 4)",
     "output_type": "error",
     "traceback": [
      "\u001b[1;36m  Cell \u001b[1;32mIn[70], line 4\u001b[1;36m\u001b[0m\n\u001b[1;33m    GPS_Latitude = [ GPS_Latitude  i Release_01_210423_GNAT_04[i]['GPS_Latitude'] ]\u001b[0m\n\u001b[1;37m                     ^\u001b[0m\n\u001b[1;31mSyntaxError\u001b[0m\u001b[1;31m:\u001b[0m invalid syntax. Perhaps you forgot a comma?\n"
     ]
    }
   ],
   "source": [
    "x = np.linspace( 0 , 57 )\n",
    "GPS_Latitude = []\n",
    "for i in range( len(Release_01_210423_GNAT_04) ):\n",
    "    GPS_Latitude = [ GPS_Latitude  i Release_01_210423_GNAT_04[i]['GPS_Latitude'] ] \n",
    "print( GPS_Latitude )"
   ]
  },
  {
   "cell_type": "code",
   "execution_count": 71,
   "metadata": {},
   "outputs": [
    {
     "name": "stdout",
     "output_type": "stream",
     "text": [
      "GNAT L082CZ - 03 ['GNAT L082CZ - 03', 'GNAT L082CZ - 03', 'GNAT L082CZ - 03', 'GNAT L082CZ - 03', 'GNAT L082CZ - 03', 'GNAT L082CZ - 03', 'GNAT L082CZ - 03', 'GNAT L082CZ - 03', 'GNAT L082CZ - 03', 'GNAT L082CZ - 03', 'GNAT L082CZ - 03', 'GNAT L082CZ - 03', 'GNAT L082CZ - 03', 'GNAT L082CZ - 03']\n",
      "3.92 ['3.92', '3.92', '3.92', '3.92', '3.92', '3.92', '3.92', '3.92', '3.92', '3.92', '3.92', '3.92', '3.92', '3.92']\n",
      "23.04.21 - 10h50 ['23.04.21 - 10h52', '23.04.21 - 10h54', '23.04.21 - 10h56', '23.04.21 - 10h56', '23.04.21 - 11h06', '23.04.21 - 11h07', '23.04.21 - 11h21', '23.04.21 - 11h35', '23.04.21 - 11h45', '23.04.21 - 11h47', '23.04.21 - 11h54', '23.04.21 - 11h56', '23.04.21 - 11h59', '23.04.21 - 12h02']\n",
      "149334.7 ['122.25', '122', '122', '366', '244', '610', '488', '732', '610', '244', '244', '244', '121.55', '122.45']\n",
      "1682067050617000000 ['1682067172862000000', '1682067294861000000', '1682067416861000000', '1682067782861000000', '1682068026862000000', '1682068636862000000', '1682069124862000000', '1682069856862000000', '1682070466862000000', '1682070710862000000', '1682070954862000000', '1682071198862000000', '1682071320411000000', '1682071442862000000']\n",
      "24.8 ['22.6', '21.8', '21.8', '20.9', '20.5', '20.9', '20.5', '21.3', '20.9', '21.8', '21.3', '21.8', '22.2', '22.2']\n",
      "3D3B8F7A9F26C003 ['3D3B8F7A9F26C003', '3D3B8F7A9F26C003', '3D3B8F7A9F26C003', '3D3B8F7A9F26C003', '3D3B8F7A9F26C003', '3D3B8F7A9F26C003', '3D3B8F7A9F26C003', '3D3B8F7A9F26C003', '3D3B8F7A9F26C003', '3D3B8F7A9F26C003', '3D3B8F7A9F26C003', '3D3B8F7A9F26C003', '3D3B8F7A9F26C003', '3D3B8F7A9F26C003']\n",
      "2 ['1', '1', '1', '1', '1', '1', '1', '1', '1', '1', '2', '2', '1', '3']\n",
      "-113 ['-111', '-115', '-112', '-111', '-111', '-107', '-113', '-108', '-115', '-115', '-109', '-112', '-119', '-113']\n",
      "-15 ['-15', '-13', '-15', '-18', '-15', '-14', '-17', '-5', '-15', '-19', '-1', '-8', '-10.25', '-5']\n",
      "-128.14 ['-126.14', '-128.21', '-127.14', '-129.07', '-126.14', '-121.17', '-130.09', '-114.19', '-130.14', '-134.05', '-112.54', '-120.64', '-129.64', '-119.19']\n",
      "12 ['12', '12', '12', '12', '12', '12', '12', '12', '12', '12', '12', '12', '12', '12']\n",
      "866.7 ['868.3', '867.9', '868.1', '866.7', '866.5', '868.5', '868.3', '868.1', '866.1', '865.1', '867.9', '866.5', '868.5', '866.7']\n",
      "0 ['1', '2', '3', '6', '8', '13', '17', '23', '28', '30', '32', '34', '35', '36']\n",
      "00f800c0008b00c0047100f00291a264002e20bc1105 ['00e200c0008b00c0047100f00291b558002e03090f0b', '00da00c000d50259041900d20291cebc002de592100b', '00da00c000cd020d041c00d20291ed34002dcbf0100a', '00d100c00111ffae04a800be029209b0002db1ca0e0a', '00cd00c0ff430118041b00be02920a14002db1c80f0d', '00d100c0fe720197032600be02925d0c002d6d8b0f11', '00cd00c0fd78010b042800be0292f3cc002e9b521018', '00d500c0fe2400c7038c00c802953240003212d2110b', '00d100c0fdf1009503ba00c8029679b00035b5a6100b', '00da00c0fe0b009203f100c8029712040037066d110b', '00d500c0fe5f00a903e200c80297842000385aae100c', '00da00c0fdcd006a044100c802983b2c003992f01010', '00de00c0fe44005c039e00c802988b18003a31df120d', '00de00c0fd49006603ec00d20298b420003a70dc0f13']\n",
      "43.098724 ['43.103576', '43.110076', '43.117876', '43.125168', '43.125268', '43.146508', '43.1851', '43.33216', '43.415984', '43.45498', '43.484192', '43.531052', '43.551512', '43.562016']\n",
      "3.023036 ['3.015433', '3.00789', '3.001328', '2.994634', '2.994632', '2.977163', '3.054418', '3.281618', '3.51991', '3.606125', '3.69323', '3.773168', '3.813855', '3.82998']\n",
      "17 ['15', '16', '16', '14', '15', '15', '16', '17', '16', '17', '16', '16', '18', '15']\n",
      "5 ['11', '11', '10', '10', '13', '17', '24', '11', '11', '11', '12', '16', '13', '19']\n",
      "89247.26 ['819.82', '947.29', '1017.82', '976.02', '11.12', '2754.5', '7594.25', '24615.15', '21397', '8201.38', '7743.47', '8289.26', '3991.35', '1747.17']\n",
      "0.6 ['6.71', '7.76', '8.34', '2.67', '0.05', '4.52', '15.56', '33.63', '35.08', '33.61', '31.74', '33.97', '32.84', '14.27']\n",
      "218.54 ['314.92', '323.21', '331.33', '328.96', '359.25', '331.03', '55.52', '53.66', '70.82', '63.4', '70.19', '57.68', '61.42', '54.62']\n",
      "24 ['24', '21', '21', '19', '19', '19', '19', '20', '20', '20', '20', '20', '20', '21']\n",
      "0.139 ['0.139', '0.213', '0.205', '0.273', '-0.189', '-0.398', '-0.648', '-0.476', '-0.527', '-0.501', '-0.417', '-0.563', '-0.444', '-0.695']\n",
      "0.192 ['0.192', '0.601', '0.525', '-0.082', '0.28', '0.407', '0.267', '0.199', '0.149', '0.146', '0.169', '0.106', '0.092', '0.102']\n",
      "1.137 ['1.137', '1.049', '1.052', '1.192', '1.051', '0.806', '1.064', '0.908', '0.954', '1.009', '0.994', '1.089', '0.926', '1.004']\n",
      "1.12 ['1.12', '3.51', '3.07', '-0.48', '1.64', '2.38', '1.56', '1.16', '0.87', '0.85', '0.99', '0.62', '0.54', '0.6']\n",
      "0.81 ['0.81', '1.24', '1.2', '1.59', '-1.1', '-2.33', '-3.79', '-2.78', '-3.08', '-2.93', '-2.44', '-3.29', '-2.59', '-4.06']\n",
      "6.66 ['6.66', '6.14', '6.16', '6.98', '6.15', '4.71', '6.23', '5.31', '5.58', '5.9', '5.82', '6.37', '5.42', '5.87']\n"
     ]
    }
   ],
   "source": [
    "with open('Files_txt/Release_01_210423/GNAT_03.txt', 'r') as f:\n",
    "    data = f.read().splitlines()  # lire le fichier et stocker chaque ligne dans un tableau\n",
    "\n",
    "header = data[0].split(';')  # stocker les noms de colonnes dans un tableau\n",
    "\n",
    "tableau = []\n",
    "for ligne in data[1:]:\n",
    "    colonnes = ligne.split(';')\n",
    "    tableau.append(colonnes)\n",
    "\n",
    "# créer un dictionnaire pour stocker chaque colonne sous forme de tableau\n",
    "tableau_dict = {}\n",
    "for i, nom_colonne in enumerate(header):\n",
    "    tableau_dict[nom_colonne] = [ligne[i] for ligne in tableau]\n",
    "\n",
    "# afficher chaque colonne\n",
    "for nom_colonne, colonne in tableau_dict.items():\n",
    "    print(nom_colonne, colonne)"
   ]
  },
  {
   "cell_type": "code",
   "execution_count": 31,
   "metadata": {},
   "outputs": [
    {
     "data": {
      "image/png": "[encoded data removed]",
      "text/plain": [
       "<Figure size 640x480 with 1 Axes>"
      ]
     },
     "metadata": {},
     "output_type": "display_data"
    }
   ],
   "source": [
    "import pandas as pd\n",
    "\n",
    "column_names = ['Board_Name', 'Battery_Level', 'Time_User', 'Time_PreviousMsg', 'Time_Elapsed', 'time', 'STM32_Temperature', \n",
    "                'DevEUI', 'Network_Quality', 'RSSI', 'SNR', 'ESP', 'SF', 'Frequency', 'Nb_Gateways', 'fcnt', 'LoRa_Payload', \n",
    "                'GPS_Latitude', 'GPS_Longitude', 'GPS_NbSatellites', 'GPS_EHPE', 'GPS_Distance', 'GPS_Vitesse', 'GPS_Direction', \n",
    "                'Acc_Temp', 'Acc_AxeX', 'Acc_AxeY', 'Acc_AxeZ', 'Acc_Roll', 'Acc_Pitch', 'Acc_Yaw']\n",
    "\n",
    "# Lire le fichier CSV et créer une table de données\n",
    "data = pd.read_csv('Files_txt/Release_01_210423/GNAT_03.txt', sep=\";\", names=column_names)\n",
    "\n",
    "# Afficher la table de données\n",
    "# print(data['GPS_Latitude'])\n",
    "\n",
    "GPS = data.loc[:,['GPS_Latitude', 'GPS_Longitude']]\n",
    "# print( GPS )\n",
    "\n",
    "plt.scatter( data['GPS_Longitude'],data['GPS_Latitude'])\n",
    "plt.title(\"Nombre de gateways captés sur la lagune de Bages-Sigean\")\n",
    "plt.xlabel(\"Longitude\")\n",
    "plt.ylabel(\"Latitude\")\n",
    "plt.grid(True)\n",
    "plt.show()"
   ]
  },
  {
   "cell_type": "code",
   "execution_count": 32,
   "metadata": {},
   "outputs": [
    {
     "data": {
      "image/png": "[encoded data removed]",
      "text/plain": [
       "<Figure size 640x480 with 1 Axes>"
      ]
     },
     "metadata": {},
     "output_type": "display_data"
    }
   ],
   "source": [
    "import matplotlib.pyplot as plt\n",
    "\n",
    "# Création de données aléatoires\n",
    "x = [1, 2, 3, 4, 5]\n",
    "y = [2, 4, 6, 8, 10]\n",
    "\n",
    "# Création du scatter plot\n",
    "plt.scatter(x, y)\n",
    "\n",
    "# Récupération des axes\n",
    "ax = plt.gca()\n",
    "\n",
    "# Modification des spines et des limites des axes\n",
    "ax.spines['left'].set_position(('data', 0.5)) # déplace le spine gauche pour qu'il passe par la valeur 0.5 de l'axe y\n",
    "ax.spines['bottom'].set_position(('data', 0.5)) # déplace le spine du bas pour qu'il passe par la valeur 0.5 de l'axe x\n",
    "ax.spines['right'].set_visible(False) # désactive le spine de droite\n",
    "ax.spines['top'].set_visible(False) # désactive le spine du haut\n",
    "ax.spines['left'].set_color('red') # change la couleur du spine gauche en rouge\n",
    "ax.spines['bottom'].set_color('red') # change la couleur du spine du bas en rouge\n",
    "ax.set_xlim(0, 6) # définit les limites de l'axe x\n",
    "ax.set_ylim(0, 12) # définit les limites de l'axe y\n",
    "\n",
    "# Affichage du graphique\n",
    "plt.show()\n"
   ]
  }
 ],
 "metadata": {
  "kernelspec": {
   "display_name": ".venv",
   "language": "python",
   "name": "python3"
  },
  "language_info": {
   "codemirror_mode": {
    "name": "ipython",
    "version": 3
   },
   "file_extension": ".py",
   "mimetype": "text/x-python",
   "name": "python",
   "nbconvert_exporter": "python",
   "pygments_lexer": "ipython3",
   "version": "3.11.0"
  },
  "orig_nbformat": 4
 },
 "nbformat": 4,
 "nbformat_minor": 2
}
